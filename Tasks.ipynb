{
 "cells": [
  {
   "cell_type": "markdown",
   "metadata": {},
   "source": [
    "# Tasks\n",
    "### This notebook contains my solution to the Tasks assignment for the Fundamentals of Data Analysis Module\n",
    "\n",
    "#### Task 1 - October 5th, 2020 \n",
    "Write a Python function called counts that takes a list as input and returns a dictionary of unique items in the list as keys and the number of times each item appears as values. So, the input ['A', 'A', 'B', 'C', 'A'] should have output {'A': 3, 'B': 1, 'C': 1} . Your code should not depend on any module from the standard library or otherwise. You should research the task first and include a description with references of your algorithm in the notebook.\n",
    "#### Research\n",
    "I did not need to research this task as such, as the steps required to generate the dictionary from the list are easy to think through and implement:\n",
    "1. One will first need to create an empty dictionary\n",
    "2. One will then need to iterate through the list, and updating the dictionary for every item in the list.\n",
    "3. If an item in the list is not present as a key in the dictionary, one updates to the dictionary to include that item as a key, with its value as 1.\n",
    "4. On the other hand, if the item in the list is present in the dictionary as a key, then one increase the value of the key by one.\n",
    "For how to create an empty dictionary, see here [1].\n",
    "For how to update a dictionary keys and values, see here [2].\n",
    "\n",
    "[1] https://www.tutorialspoint.com/How-to-create-an-empty-dictionary-in-Python\n",
    "\n",
    "[2] https://stackoverflow.com/questions/1024847/how-can-i-add-new-keys-to-a-dictionary"
   ]
  },
  {
   "cell_type": "code",
   "execution_count": 3,
   "metadata": {},
   "outputs": [],
   "source": [
    "def counts(list):\n",
    "    dict = {}\n",
    "    for i in list:\n",
    "        if i not in dict:\n",
    "            dict[i] = 1\n",
    "        else:\n",
    "            dict[i] += 1\n",
    "    return dict"
   ]
  },
  {
   "cell_type": "code",
   "execution_count": 4,
   "metadata": {},
   "outputs": [
    {
     "data": {
      "text/plain": [
       "{'A': 3, 'B': 1, 'C': 1}"
      ]
     },
     "execution_count": 4,
     "metadata": {},
     "output_type": "execute_result"
    }
   ],
   "source": [
    "counts(['A', 'A', 'B', 'C', 'A'])"
   ]
  },
  {
   "cell_type": "markdown",
   "metadata": {},
   "source": [
    "#### Task 2, November 2nd, 2020: \n",
    "Write a Python function called dicerolls that simulates\n",
    "rolling dice. Your function should take two parameters: the number of dice k and\n",
    "the number of times to roll the dice n. The function should simulate randomly\n",
    "rolling k dice n times, keeping track of each total face value. It should then return\n",
    "a dictionary with the number of times each possible total face value occurred. So,\n",
    "calling the function as diceroll(k=2, n=1000) should return a dictionary like:\n",
    "{2:19,3:50,4:82,5:112,6:135,7:174,8:133,9:114,10:75,11:70,12:36}\n",
    "You can use any module from the Python standard library you wish and you should\n",
    "include a description with references of your algorithm in the notebook.\n",
    "\n",
    "#### Research\n",
    "As above, I did not need to research this task. The logic is straightforward:\n",
    "1. To simulate the dice rolls, we can use random.choice, and pass it an array of integers, 1 through 6. We do this for every dice that is rolled, and add the result to a 'total' variable that will contain the totals for each set of die rolled. We then add the total of each set of die to a list, resetting the value of that 'total' variable for each set of dice to be rolled. All of this can easily be achieved with basic for loops.\n",
    "2. To then get a dictionary that where the keys are the totals and then values are the number of times they have appeared, we can just use the collections' module's Counter method, which takes in a list and returns a dictionary with each item in the list and the number of times it appears [1]. One could do this manually, but the collections module is in the standard library [2], and is perfect for our demands. \n",
    "\n",
    "[1] https://docs.python.org/3/library/collections.html#collections.Counter\n",
    "[2] https://docs.python.org/3/library/index.html\n",
    "\n"
   ]
  },
  {
   "cell_type": "code",
   "execution_count": 12,
   "metadata": {},
   "outputs": [
    {
     "data": {
      "text/plain": [
       "{6: 1, 7: 2, 9: 1, 8: 2, 5: 1, 12: 1, 10: 1}"
      ]
     },
     "execution_count": 12,
     "metadata": {},
     "output_type": "execute_result"
    }
   ],
   "source": [
    "import random\n",
    "from collections import Counter\n",
    "\n",
    "def dicerolls(k, n):\n",
    "    total = 0 #store the total of the faces for each set of rolls\n",
    "    result = [] # store the totals in here\n",
    "    for i in range(n):\n",
    "        for i in range(k):\n",
    "            total += random.choice([1,2,3,4,5,6]) # roll the dice and add the value of each roll to the 'total' variable\n",
    "        result.append(total) # append the total of each set to the 'result' list\n",
    "        total = 0 # reset total to zero for the next set of rolls\n",
    "    return dict(Counter(result)) # use Counter, and convert its return value to a dict, as required\n",
    "\n",
    "dicerolls(2,9) # test"
   ]
  },
  {
   "cell_type": "code",
   "execution_count": null,
   "metadata": {},
   "outputs": [],
   "source": []
  }
 ],
 "metadata": {
  "kernelspec": {
   "display_name": "Python 3",
   "language": "python",
   "name": "python3"
  },
  "language_info": {
   "codemirror_mode": {
    "name": "ipython",
    "version": 3
   },
   "file_extension": ".py",
   "mimetype": "text/x-python",
   "name": "python",
   "nbconvert_exporter": "python",
   "pygments_lexer": "ipython3",
   "version": "3.7.4"
  }
 },
 "nbformat": 4,
 "nbformat_minor": 2
}
