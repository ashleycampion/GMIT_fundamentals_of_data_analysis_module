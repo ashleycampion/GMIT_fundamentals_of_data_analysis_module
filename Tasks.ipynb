{
 "cells": [
  {
   "cell_type": "markdown",
   "metadata": {},
   "source": [
    "# Tasks\n",
    "### This notebook contains my solution to the Tasks assignment for the Fundamentals of Data Analysis Module\n",
    "\n",
    "#### Task 1 - October 5th, 2020 \n",
    "Write a Python function called counts that takes a list as input and returns a dictionary of unique items in the list as keys and the number of times each item appears as values. So, the input ['A', 'A', 'B', 'C', 'A'] should have output {'A': 3, 'B': 1, 'C': 1} . Your code should not depend on any module from the standard library or otherwise. You should research the task first and include a description with references of your algorithm in the notebook.\n",
    "#### Research\n",
    "I did not need to research this task as such, as the steps required to generate the dictionary from the list are easy to think through and implement:\n",
    "1. One will first need to create an empty dictionary\n",
    "2. One will then need to iterate through the list, and updating the dictionary for every item in the list.\n",
    "3. If an item in the list is not present as a key in the dictionary, one updates to the dictionary to include that item as a key, with its value as 1.\n",
    "4. On the other hand, if the item in the list is present in the dictionary as a key, then one increase the value of the key by one.\n",
    "For how to create an empty dictionary, see here [1].\n",
    "For how to update a dictionary keys and values, see here [2].\n",
    "\n",
    "[1] https://www.tutorialspoint.com/How-to-create-an-empty-dictionary-in-Python\n",
    "\n",
    "[2] https://stackoverflow.com/questions/1024847/how-can-i-add-new-keys-to-a-dictionary"
   ]
  },
  {
   "cell_type": "code",
   "execution_count": 3,
   "metadata": {},
   "outputs": [],
   "source": [
    "def counts(list):\n",
    "    dict = {}\n",
    "    for i in list:\n",
    "        if i not in dict:\n",
    "            dict[i] = 1\n",
    "        else:\n",
    "            dict[i] += 1\n",
    "    return dict"
   ]
  },
  {
   "cell_type": "code",
   "execution_count": 4,
   "metadata": {},
   "outputs": [
    {
     "data": {
      "text/plain": [
       "{'A': 3, 'B': 1, 'C': 1}"
      ]
     },
     "execution_count": 4,
     "metadata": {},
     "output_type": "execute_result"
    }
   ],
   "source": [
    "counts(['A', 'A', 'B', 'C', 'A'])"
   ]
  },
  {
   "cell_type": "code",
   "execution_count": null,
   "metadata": {},
   "outputs": [],
   "source": []
  }
 ],
 "metadata": {
  "kernelspec": {
   "display_name": "Python 3",
   "language": "python",
   "name": "python3"
  },
  "language_info": {
   "codemirror_mode": {
    "name": "ipython",
    "version": 3
   },
   "file_extension": ".py",
   "mimetype": "text/x-python",
   "name": "python",
   "nbconvert_exporter": "python",
   "pygments_lexer": "ipython3",
   "version": "3.7.4"
  }
 },
 "nbformat": 4,
 "nbformat_minor": 2
}
