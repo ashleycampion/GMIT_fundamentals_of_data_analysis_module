{
 "cells": [
  {
   "cell_type": "markdown",
   "metadata": {},
   "source": [
    "# Tasks\n",
    "### This notebook contains my solution to the Tasks assignment for the Fundamentals of Data Analysis Module\n",
    "\n",
    "#### Task 1 - October 5th, 2020 \n",
    "Write a Python function called counts that takes a list as input and returns a dictionary of unique items in the list as keys and the number of times each item appears as values. So, the input ['A', 'A', 'B', 'C', 'A'] should have output {'A': 3, 'B': 1, 'C': 1} . Your code should not depend on any module from the standard library or otherwise. You should research the task first and include a description with references of your algorithm in the notebook.\n",
    "#### Research\n",
    "I did not need to research this task as such, as the steps required to generate the dictionary from the list are easy to think through and implement:\n",
    "1. One will first need to create an empty dictionary\n",
    "2. One will then need to iterate through the list, and updating the dictionary for every item in the list.\n",
    "3. If an item in the list is not present as a key in the dictionary, one updates to the dictionary to include that item as a key, with its value as 1.\n",
    "4. On the other hand, if the item in the list is present in the dictionary as a key, then one increase the value of the key by one.\n",
    "For how to create an empty dictionary, see here [1].\n",
    "For how to update a dictionary keys and values, see here [2].\n",
    "\n",
    "[1] https://www.tutorialspoint.com/How-to-create-an-empty-dictionary-in-Python\n",
    "\n",
    "[2] https://stackoverflow.com/questions/1024847/how-can-i-add-new-keys-to-a-dictionary"
   ]
  },
  {
   "cell_type": "code",
   "execution_count": 19,
   "metadata": {},
   "outputs": [],
   "source": [
    "def counts(list):\n",
    "    dict = {}\n",
    "    for i in list:\n",
    "        if i not in dict:\n",
    "            dict[i] = 1\n",
    "        else:\n",
    "            dict[i] += 1\n",
    "    return dict"
   ]
  },
  {
   "cell_type": "code",
   "execution_count": 20,
   "metadata": {},
   "outputs": [
    {
     "data": {
      "text/plain": [
       "{'A': 3, 'B': 1, 'C': 1}"
      ]
     },
     "execution_count": 20,
     "metadata": {},
     "output_type": "execute_result"
    }
   ],
   "source": [
    "counts(['A', 'A', 'B', 'C', 'A'])"
   ]
  },
  {
   "cell_type": "markdown",
   "metadata": {},
   "source": [
    "#### Task 2, November 2nd, 2020: \n",
    "Write a Python function called dicerolls that simulates\n",
    "rolling dice. Your function should take two parameters: the number of dice k and\n",
    "the number of times to roll the dice n. The function should simulate randomly\n",
    "rolling k dice n times, keeping track of each total face value. It should then return\n",
    "a dictionary with the number of times each possible total face value occurred. So,\n",
    "calling the function as diceroll(k=2, n=1000) should return a dictionary like:\n",
    "{2:19,3:50,4:82,5:112,6:135,7:174,8:133,9:114,10:75,11:70,12:36}\n",
    "You can use any module from the Python standard library you wish and you should\n",
    "include a description with references of your algorithm in the notebook.\n",
    "\n",
    "#### Research\n",
    "As above, I did not need to research this task. The logic is straightforward:\n",
    "1. To simulate the dice rolls, we can use random.choice, and pass it an array of integers, 1 through 6. We do this for every dice that is rolled, and add the result to a 'total' variable that will contain the totals for each set of die rolled. We then add the total of each set of die to a list, resetting the value of that 'total' variable for each set of dice to be rolled. All of this can easily be achieved with basic for loops.\n",
    "2. To then get a dictionary that where the keys are the totals and then values are the number of times they have appeared, we can just use the collections' module's Counter method, which takes in a list and returns a dictionary with each item in the list and the number of times it appears [1]. One could do this manually, but the collections module is in the standard library [2], and is perfect for our demands. \n",
    "\n",
    "[1] https://docs.python.org/3/library/collections.html#collections.Counter\n",
    "[2] https://docs.python.org/3/library/index.html\n",
    "\n"
   ]
  },
  {
   "cell_type": "code",
   "execution_count": 21,
   "metadata": {},
   "outputs": [
    {
     "data": {
      "text/plain": [
       "{8: 1, 7: 4, 11: 1, 10: 1, 4: 1, 3: 1}"
      ]
     },
     "execution_count": 21,
     "metadata": {},
     "output_type": "execute_result"
    }
   ],
   "source": [
    "import random\n",
    "from collections import Counter\n",
    "\n",
    "def dicerolls(k, n):\n",
    "    total = 0 #store the total of the faces for each set of rolls\n",
    "    result = [] # store the totals in here\n",
    "    for i in range(n):\n",
    "        for i in range(k):\n",
    "            total += random.choice([1,2,3,4,5,6]) # roll the dice and add the value of each roll to the 'total' variable\n",
    "        result.append(total) # append the total of each set to the 'result' list\n",
    "        total = 0 # reset total to zero for the next set of rolls\n",
    "    return dict(Counter(result)) # use Counter, and convert its return value to a dict, as required\n",
    "\n",
    "dicerolls(2,9) # test"
   ]
  },
  {
   "cell_type": "markdown",
   "metadata": {},
   "source": [
    "#### Task 3, November 16th, 2020:\n",
    "The numpy.random.binomial function can be used to\n",
    "simulate flipping a coin with a 50/50 chance of heads or tails. Interestingly, if a\n",
    "coin is flipped many times then the number of heads is well approximated by a\n",
    "bell-shaped curve. For instance, if we flip a coin 100 times in a row the chance of\n",
    "getting 50 heads is relatively high, the chances of getting 0 or 100 heads is relatively\n",
    "low, and the chances of getting any other number of heads decreases as you move\n",
    "away from 50 in either direction towards 0 or 100. Write some python code that\n",
    "simulates flipping a coin 100 times. Then run this code 1,000 times, keeping track\n",
    "of the number of heads in each of the 1,000 simulations. Select an appropriate\n",
    "plot to depict the resulting list of 1,000 numbers, showing that it roughly follows\n",
    "a bell-shaped curve. You should explain your work in a Markdown cell above the\n",
    "code\n",
    "\n",
    "#### Research\n",
    "I have already experimented with numpy.random's binominal function in the Programming for Data Analysis module [1]. Although we could use for loops and the numpy.random.choice function to simulate the sets of coin tosses, the binomial function can handle this for us itself. However, I will create the sample manually, as that seems to be what is implied in the question. I will then plot a histogram, and finally a scatter plot to show the bell-curve shape that the sample takes. To close, I will perform a statistical test for normality to show that the data is highly unlikely to have actually been drawn from a normal distribution.\n",
    "\n",
    "[1] https://github.com/ashleycampion/GMIT_Programming_for_data_analysis_Assignment/blob/main/Programming%20for%20Data%20Analysis%20-%20Assignment.ipynb"
   ]
  },
  {
   "cell_type": "code",
   "execution_count": 5,
   "metadata": {},
   "outputs": [
    {
     "name": "stdout",
     "output_type": "stream",
     "text": [
      "The collections package's 'Counter' function is a useful way to understand the results without having to plot them. As the probability of True is here 0.5, we would expect, for sets of a thousand events \\(i.e. a thousand coin tosses\\), that our most frequently resulting numbers would be close to 500.\n",
      "\n"
     ]
    },
    {
     "ename": "NameError",
     "evalue": "name 'binom' is not defined",
     "output_type": "error",
     "traceback": [
      "\u001b[1;31m---------------------------------------------------------------------------\u001b[0m",
      "\u001b[1;31mNameError\u001b[0m                                 Traceback (most recent call last)",
      "\u001b[1;32m<ipython-input-5-48d66e73a543>\u001b[0m in \u001b[0;36m<module>\u001b[1;34m\u001b[0m\n\u001b[0;32m     21\u001b[0m \u001b[0mevents\u001b[0m\u001b[0;31m \u001b[0m\u001b[0;31m\\\u001b[0m\u001b[1;33m(\u001b[0m\u001b[0mi\u001b[0m\u001b[1;33m.\u001b[0m\u001b[0me\u001b[0m\u001b[1;33m.\u001b[0m \u001b[0ma\u001b[0m \u001b[0mthousand\u001b[0m \u001b[0mcoin\u001b[0m \u001b[0mtosses\u001b[0m\u001b[0;31m\\\u001b[0m\u001b[1;33m)\u001b[0m\u001b[1;33m,\u001b[0m \u001b[0mthat\u001b[0m \u001b[0mour\u001b[0m \u001b[0mmost\u001b[0m \u001b[0mfrequently\u001b[0m\u001b[0;31m \u001b[0m\u001b[0;31m\\\u001b[0m\u001b[1;33m\u001b[0m\u001b[1;33m\u001b[0m\u001b[0m\n\u001b[0;32m     22\u001b[0m resulting numbers would be close to 500.\\n\")\n\u001b[1;32m---> 23\u001b[1;33m \u001b[0mprint\u001b[0m\u001b[1;33m(\u001b[0m\u001b[0mCounter\u001b[0m\u001b[1;33m(\u001b[0m\u001b[0mbinom\u001b[0m\u001b[1;33m)\u001b[0m\u001b[1;33m)\u001b[0m\u001b[1;33m\u001b[0m\u001b[1;33m\u001b[0m\u001b[0m\n\u001b[0m\u001b[0;32m     24\u001b[0m \u001b[1;33m\u001b[0m\u001b[0m\n\u001b[0;32m     25\u001b[0m \u001b[0mprint\u001b[0m\u001b[1;33m(\u001b[0m\u001b[1;34m\"\\nWe can see this more easily with a histogram and a scatter plot:\"\u001b[0m\u001b[1;33m)\u001b[0m\u001b[1;33m\u001b[0m\u001b[1;33m\u001b[0m\u001b[0m\n",
      "\u001b[1;31mNameError\u001b[0m: name 'binom' is not defined"
     ]
    }
   ],
   "source": [
    "import matplotlib.pyplot as plt\n",
    "import numpy as np\n",
    "from collections import Counter\n",
    "\n",
    "#rng = np.random.default_rng()\n",
    "#n, p = 1000, .5  # number of trials, probability of each trial\n",
    "#binom = rng.binomial(n, p, 1000) # 10000 represents the number of sets of trials\n",
    "\n",
    "# the below may take a few seconds to run\n",
    "binomial = []\n",
    "for i in range(1000):\n",
    "    temp = 0\n",
    "    for i in range(1000):\n",
    "        temp += np.random.choice([0,1])\n",
    "    binomial.append(temp)\n",
    "    \n",
    "\n",
    "print(\"The collections package's 'Counter' function is a useful way \\\n",
    "to understand the results without having to plot them. \\\n",
    "As the probability of True is here 0.5, we would expect, for sets of a thousand \\\n",
    "events \\(i.e. a thousand coin tosses\\), that our most frequently \\\n",
    "resulting numbers would be close to 500.\\n\")\n",
    "print(Counter(binom))\n",
    "\n",
    "print(\"\\nWe can see this more easily with a histogram and a scatter plot:\")\n",
    "\n",
    "%matplotlib inline\n",
    "fig, ax = plt.subplots()\n",
    "plt.suptitle(\"No. of heads per 1000 coin tosses - 1000 trials\")\n",
    "plt.hist(binomial, bins=np.linspace(425,575,20))\n",
    "ax.set_ylabel(\"No. of Trials\")\n",
    "ax.set_xlabel(\"No. of Heads\")\n",
    "\n",
    "plt.show()\n",
    "\n",
    "%matplotlib inline\n",
    "fig, ax = plt.subplots()\n",
    "plt.suptitle(\"No. of heads per 1000 coin tosses - 1000 trials\")\n",
    "labels, counts = np.unique(binomial, return_counts=True)\n",
    "ax.plot(labels, counts, 'b.')\n",
    "ax.set_ylabel(\"No. of Trials\")\n",
    "ax.set_xlabel(\"No. of Heads\")\n",
    "plt.gca().set_xticks(np.linspace(425,575,10).round())\n",
    "plt.show()"
   ]
  },
  {
   "cell_type": "markdown",
   "metadata": {},
   "source": [
    "By gradually increasing the number of trials from 100 to 10000000, we can more clearly see the distribution begin to look more and more like the bell-curve of the normal distribution"
   ]
  },
  {
   "cell_type": "code",
   "execution_count": 23,
   "metadata": {},
   "outputs": [
    {
     "data": {
      "image/png": "[encoded data removed]",
      "text/plain": [
       "<Figure size 1080x504 with 6 Axes>"
      ]
     },
     "metadata": {
      "needs_background": "light"
     },
     "output_type": "display_data"
    }
   ],
   "source": [
    "rng = np.random.default_rng()\n",
    "\n",
    "%matplotlib inline\n",
    "fig, ((ax1, ax2, ax3), (ax4, ax5, ax6)) = plt.subplots(nrows=2, ncols=3, sharex=True, figsize=(15,7))\n",
    "plt.suptitle(\"No. of heads per 1000 coin tosses - for 10, 100, 1000 and 10000 trials\")\n",
    "\n",
    "n, p = 1000, .7  # number of trials, probability of each trial\n",
    "\n",
    "binom = rng.binomial(n, p, 100)\n",
    "labels, counts = np.unique(binom, return_counts=True)\n",
    "ax1.plot(labels, counts, 'b.')\n",
    "ax1.set_ylabel(\"No. of Trials\")\n",
    "\n",
    "binom = rng.binomial(n, p, 1000)\n",
    "labels, counts = np.unique(binom, return_counts=True)\n",
    "ax2.plot(labels, counts, 'b.')\n",
    "\n",
    "\n",
    "binom = rng.binomial(n, p, 10000)\n",
    "labels, counts = np.unique(binom, return_counts=True)\n",
    "ax3.plot(labels, counts, 'b.')\n",
    "\n",
    "binom = rng.binomial(n, p, 100000)\n",
    "labels, counts = np.unique(binom, return_counts=True)\n",
    "ax4.plot(labels, counts, 'b.')\n",
    "ax4.set_xlabel(\"No. of heads after 10,000 coin tosses\")\n",
    "ax4.set_ylabel(\"No. of Trials\")\n",
    "\n",
    "binom = rng.binomial(n, p, 1000000)\n",
    "labels, counts = np.unique(binom, return_counts=True)\n",
    "ax5.plot(labels, counts, 'b.')\n",
    "ax5.set_xlabel(\"No. of heads after 10,000 coin tosses\")\n",
    "\n",
    "binom = rng.binomial(n, p, 10000000)\n",
    "labels, counts = np.unique(binom, return_counts=True)\n",
    "ax6.plot(labels, counts, 'b.')\n",
    "ax6.set_xlabel(\"No. of heads after 10,000 coin tosses\")\n",
    "plt.show()"
   ]
  },
  {
   "cell_type": "markdown",
   "metadata": {},
   "source": [
    "Of course, just because a distribution *looks* normal, does not actually mean it *is* normal. Rather than relying on visualization, we can perform a statistical test to check whether it is reasonable to assume that our sample could have been drawn from a normal distribution. The D'Agostino K^2 test is one such test for normality.\n",
    "\n",
    "\n",
    "I will now run a D'Agostino K^2 test [1] to test if this distribution, where p is 0.5, n is 1,000 and the number of sets of trials is also 1,000, could have arisen from normally distributed data. This test computes two values, skew and kurtosis:\n",
    "\n",
    "Skew is a quantification of how much a distribution is pushed left or right, a measure of asymmetry in the distribution.\n",
    "Kurtosis quantifies how much of the distribution is in the tail. It is a simple and commonly used statistical test for normality. Scipy.stats has a 'normaltest' function that performs this test, returning a value (the 'Test Statistic' [2]) that is generated from the skew and the kurtosis of the data, as well as a p-value. Of course, the generation of a Test Statistic and a p-value is a common feature of statistical tests. Essentially, the evaluation process is as follows:\n",
    "Once the data is pushed through the testing function, a single value, the Test Statistic, is produced. This value can be said to 'represent' the data from the perspective of the test.\n",
    "\n",
    "Although generally a lower Test Statistic value indicates that the hypothesis being tested is correct, because the actual Test Statistic value is only meaningful from the perspective of the particular kind of test being run, we need to know how to interpret it independent of that particular kind of test. As such, a corresponding 'p-value' is generated, which essentially informs us of the probability that the Test Statistic generated would have been generated if our hypothesis was correct. If this p-value is close to zero, we can assume that the hypothesis was not correct. Generally, the maximum acceptable value of the p-value for a correctly assumed hypothesis (what is called the 'Null Hyopthesis') is 0.05.\n",
    "\n",
    "Thus, if the p-value is greater than 0.05, we would conclude that it is highly likely that the sample was drawn from a normal distribution. \n",
    "\n",
    "[1] https://machinelearningmastery.com/a-gentle-introduction-to-normality-tests-in-python/\n",
    "\n",
    "[2] https://en.wikipedia.org/wiki/Test_statistic"
   ]
  },
  {
   "cell_type": "code",
   "execution_count": 24,
   "metadata": {},
   "outputs": [
    {
     "name": "stdout",
     "output_type": "stream",
     "text": [
      "For 1000 sets of 1000 trials at probability 0.5, the results are as follows:\n",
      "Test Statistic=3.033, P-value=0.220\n",
      "The data appears to be normally distributed.\n"
     ]
    }
   ],
   "source": [
    "import scipy.stats as ss\n",
    "for n,p,i in [(1000,0.5,1000)]:\n",
    "    stat, pValue = ss.normaltest(binomial)\n",
    "    print(f\"For {i} sets of {n} trials at probability {p}, the results are as follows:\")\n",
    "    print('Test Statistic=%.3f, P-value=%.3f' % (stat, pValue))\n",
    "    alpha = 0.05 # we will accept anything over 95% certainty\n",
    "    if pValue > alpha:\n",
    "        print('The data appears to be normally distributed.')\n",
    "    else:\n",
    "        print('The data does not appear to be normally distributed - a warning not to always trust your eyes!')"
   ]
  },
  {
   "cell_type": "markdown",
   "metadata": {},
   "source": [
    "#### Task 4, November 30th, 2020: \n",
    "Simpson’s paradox is a well-known statistical paradox where a trend evident in a number of groups reverses when the groups are combined into one big data set. Use numpy to create four data sets, each with an x array and a corresponding y array, to demonstrate Simpson’s paradox. You might create your x arrays using numpy.linspace and create the y array for each x using notation like y = a * x + b where you choose the a and b for each x , y pair to demonstrate the paradox. You might see the Wikipedia page for Simpson’s paradox for inspiration.\n",
    "\n",
    "\n",
    "#### Research\n",
    "Wikipedia to the rescue:\n",
    "\n",
    "> Simpson's paradox, which also goes by several other names, is a phenomenon in probability and statistics, in which a trend appears in several different groups of data but disappears or reverses when these groups are combined. This result is often encountered in social-science and medical-science statistics and is particularly problematic when frequency data is unduly given causal interpretations [...] Simpson's paradox has been used as an exemplar to illustrate to the non-specialist or public audience the kind of misleading results mis-applied statistics can generate.\n",
    "\n",
    "Perhaps the most intuitive explanation of how such a paradox occurs, i.e. where trends in individuals groups are reversed when the groups are combined, can be found in the game of darts. Imagine a professional dart player and an amateur are having a bet on who can achieve the best success rate for hitting the centre of the dart board. The professional goes first, and hits its the centre six out of ten tries. The amateur then takes his turn and gets lucky and hits it on his first go. He then stops throwing, as technicallly his success rate is 100%, which is higher than the professionals's 60%. The next day, they agree to repeat the bet. The professional again goes first, and misses. The ameteur then declares that his turn is over, and the ameteur proceeds to throw. On the tenth throw the ameteur finally hits the centre. On this ocassion the ameteur again has the better success rate, 10% versus the professional's 0%. However, when you combined both sets of bets together the professional's success rate is 6/11, whereas the ameteur's is only 2/11. So even though the ameteur had a better success rate in each round, the professional had the best success rate overall. Of course, this is a contrived example, but it gets at the core of the paradox, namely, where frequency data (the ameteur's higher success rate) is taken as proof of his greater skill (assuming that the skill causes the success rate). The paradox can be resolved when one finds a better explanation of the conflicting trends that does not simply rely on one frequency measure, such as success rate. In our example we could say that success rate is only meaningfully related to skill when the dataset is of a minimum size (e.g. greater than one throw), and then the conflicting succcess rates become less unintuitive because their significance is taken away. We can simply say that they are nothing more than success rates.\n",
    "\n",
    "\n",
    "\n",
    "References \n",
    "\n",
    "[1] https://en.wikipedia.org/wiki/Simpson%27s_paradox"
   ]
  },
  {
   "cell_type": "code",
   "execution_count": 58,
   "metadata": {},
   "outputs": [],
   "source": [
    "import numpy.random as rd\n",
    "arr1x = rd.normal(5,4,100)\n",
    "noise = rd.normal (20,5,100)\n",
    "arr1y = 4 * arr1x + 150\n",
    "arr1y += noise\n",
    "\n",
    "arr2x = rd.normal(15,4,100)\n",
    "noise = rd.normal (20,5,100)\n",
    "arr2y = 4 * arr2x + 75\n",
    "arr2y += noise\n",
    "\n",
    "arr3x = rd.normal(25,4,100)\n",
    "noise = rd.normal (20,5,100)\n",
    "arr3y = 4 * arr3x + 0\n",
    "arr3y += noise\n",
    "\n",
    "arr4x = rd.normal(35,4,100)\n",
    "noise = rd.normal (20,5,100)\n",
    "arr4y = 4 * arr4x + -50\n",
    "arr4y += noise\n"
   ]
  },
  {
   "cell_type": "code",
   "execution_count": 59,
   "metadata": {},
   "outputs": [
    {
     "data": {
      "image/png": "[encoded data removed]",
      "text/plain": [
       "<Figure size 432x288 with 1 Axes>"
      ]
     },
     "metadata": {
      "needs_background": "light"
     },
     "output_type": "display_data"
    }
   ],
   "source": [
    "plt.plot(arr1x, arr1y, '.')\n",
    "plt.plot(arr2x, arr2y, '.')\n",
    "plt.plot(arr3x, arr3y, '.')\n",
    "plt.plot(arr4x, arr4y, '.')\n",
    "plt.show()"
   ]
  },
  {
   "cell_type": "code",
   "execution_count": 63,
   "metadata": {},
   "outputs": [
    {
     "ename": "ValueError",
     "evalue": "shapes (1,2) and (100,100) not aligned: 2 (dim 1) != 100 (dim 0)",
     "output_type": "error",
     "traceback": [
      "\u001b[1;31m---------------------------------------------------------------------------\u001b[0m",
      "\u001b[1;31mValueError\u001b[0m                                Traceback (most recent call last)",
      "\u001b[1;32m<ipython-input-63-8753ebb74bf4>\u001b[0m in \u001b[0;36m<module>\u001b[1;34m\u001b[0m\n\u001b[0;32m      3\u001b[0m \u001b[1;33m\u001b[0m\u001b[0m\n\u001b[0;32m      4\u001b[0m \u001b[0mregr\u001b[0m \u001b[1;33m=\u001b[0m \u001b[0mLinearRegression\u001b[0m\u001b[1;33m(\u001b[0m\u001b[0mfit_intercept\u001b[0m \u001b[1;33m=\u001b[0m \u001b[1;32mTrue\u001b[0m\u001b[1;33m,\u001b[0m \u001b[0mnormalize\u001b[0m \u001b[1;33m=\u001b[0m \u001b[1;32mTrue\u001b[0m\u001b[1;33m,\u001b[0m \u001b[0mcopy_X\u001b[0m \u001b[1;33m=\u001b[0m \u001b[1;32mTrue\u001b[0m\u001b[1;33m,\u001b[0m \u001b[0mn_jobs\u001b[0m \u001b[1;33m=\u001b[0m \u001b[1;36m2\u001b[0m\u001b[1;33m)\u001b[0m\u001b[1;33m.\u001b[0m\u001b[0mfit\u001b[0m\u001b[1;33m(\u001b[0m\u001b[1;33m[\u001b[0m\u001b[0marr1x\u001b[0m\u001b[1;33m]\u001b[0m\u001b[1;33m,\u001b[0m \u001b[1;33m[\u001b[0m\u001b[0marr1y\u001b[0m\u001b[1;33m]\u001b[0m\u001b[1;33m)\u001b[0m\u001b[1;33m\u001b[0m\u001b[1;33m\u001b[0m\u001b[0m\n\u001b[1;32m----> 5\u001b[1;33m \u001b[0mregr\u001b[0m\u001b[1;33m.\u001b[0m\u001b[0mpredict\u001b[0m\u001b[1;33m(\u001b[0m\u001b[0mnp\u001b[0m\u001b[1;33m.\u001b[0m\u001b[0marray\u001b[0m\u001b[1;33m(\u001b[0m\u001b[1;33m[\u001b[0m\u001b[1;33m[\u001b[0m\u001b[1;36m3\u001b[0m\u001b[1;33m,\u001b[0m\u001b[1;36m5\u001b[0m\u001b[1;33m]\u001b[0m\u001b[1;33m]\u001b[0m\u001b[1;33m)\u001b[0m\u001b[1;33m)\u001b[0m\u001b[1;33m\u001b[0m\u001b[1;33m\u001b[0m\u001b[0m\n\u001b[0m\u001b[0;32m      6\u001b[0m \u001b[0mregr\u001b[0m\u001b[1;33m.\u001b[0m\u001b[0mscore\u001b[0m\u001b[1;33m(\u001b[0m\u001b[0mX\u001b[0m\u001b[1;33m,\u001b[0m\u001b[0my\u001b[0m\u001b[1;33m)\u001b[0m\u001b[1;33m\u001b[0m\u001b[1;33m\u001b[0m\u001b[0m\n\u001b[0;32m      7\u001b[0m \u001b[0mregr\u001b[0m\u001b[1;33m.\u001b[0m\u001b[0mcoef_\u001b[0m\u001b[1;33m\u001b[0m\u001b[1;33m\u001b[0m\u001b[0m\n",
      "\u001b[1;32m~\\Anaconda3\\lib\\site-packages\\sklearn\\linear_model\\base.py\u001b[0m in \u001b[0;36mpredict\u001b[1;34m(self, X)\u001b[0m\n\u001b[0;32m    219\u001b[0m             \u001b[0mReturns\u001b[0m \u001b[0mpredicted\u001b[0m \u001b[0mvalues\u001b[0m\u001b[1;33m.\u001b[0m\u001b[1;33m\u001b[0m\u001b[1;33m\u001b[0m\u001b[0m\n\u001b[0;32m    220\u001b[0m         \"\"\"\n\u001b[1;32m--> 221\u001b[1;33m         \u001b[1;32mreturn\u001b[0m \u001b[0mself\u001b[0m\u001b[1;33m.\u001b[0m\u001b[0m_decision_function\u001b[0m\u001b[1;33m(\u001b[0m\u001b[0mX\u001b[0m\u001b[1;33m)\u001b[0m\u001b[1;33m\u001b[0m\u001b[1;33m\u001b[0m\u001b[0m\n\u001b[0m\u001b[0;32m    222\u001b[0m \u001b[1;33m\u001b[0m\u001b[0m\n\u001b[0;32m    223\u001b[0m     \u001b[0m_preprocess_data\u001b[0m \u001b[1;33m=\u001b[0m \u001b[0mstaticmethod\u001b[0m\u001b[1;33m(\u001b[0m\u001b[0m_preprocess_data\u001b[0m\u001b[1;33m)\u001b[0m\u001b[1;33m\u001b[0m\u001b[1;33m\u001b[0m\u001b[0m\n",
      "\u001b[1;32m~\\Anaconda3\\lib\\site-packages\\sklearn\\linear_model\\base.py\u001b[0m in \u001b[0;36m_decision_function\u001b[1;34m(self, X)\u001b[0m\n\u001b[0;32m    204\u001b[0m         \u001b[0mX\u001b[0m \u001b[1;33m=\u001b[0m \u001b[0mcheck_array\u001b[0m\u001b[1;33m(\u001b[0m\u001b[0mX\u001b[0m\u001b[1;33m,\u001b[0m \u001b[0maccept_sparse\u001b[0m\u001b[1;33m=\u001b[0m\u001b[1;33m[\u001b[0m\u001b[1;34m'csr'\u001b[0m\u001b[1;33m,\u001b[0m \u001b[1;34m'csc'\u001b[0m\u001b[1;33m,\u001b[0m \u001b[1;34m'coo'\u001b[0m\u001b[1;33m]\u001b[0m\u001b[1;33m)\u001b[0m\u001b[1;33m\u001b[0m\u001b[1;33m\u001b[0m\u001b[0m\n\u001b[0;32m    205\u001b[0m         return safe_sparse_dot(X, self.coef_.T,\n\u001b[1;32m--> 206\u001b[1;33m                                dense_output=True) + self.intercept_\n\u001b[0m\u001b[0;32m    207\u001b[0m \u001b[1;33m\u001b[0m\u001b[0m\n\u001b[0;32m    208\u001b[0m     \u001b[1;32mdef\u001b[0m \u001b[0mpredict\u001b[0m\u001b[1;33m(\u001b[0m\u001b[0mself\u001b[0m\u001b[1;33m,\u001b[0m \u001b[0mX\u001b[0m\u001b[1;33m)\u001b[0m\u001b[1;33m:\u001b[0m\u001b[1;33m\u001b[0m\u001b[1;33m\u001b[0m\u001b[0m\n",
      "\u001b[1;32m~\\Anaconda3\\lib\\site-packages\\sklearn\\utils\\extmath.py\u001b[0m in \u001b[0;36msafe_sparse_dot\u001b[1;34m(a, b, dense_output)\u001b[0m\n\u001b[0;32m    140\u001b[0m         \u001b[1;32mreturn\u001b[0m \u001b[0mret\u001b[0m\u001b[1;33m\u001b[0m\u001b[1;33m\u001b[0m\u001b[0m\n\u001b[0;32m    141\u001b[0m     \u001b[1;32melse\u001b[0m\u001b[1;33m:\u001b[0m\u001b[1;33m\u001b[0m\u001b[1;33m\u001b[0m\u001b[0m\n\u001b[1;32m--> 142\u001b[1;33m         \u001b[1;32mreturn\u001b[0m \u001b[0mnp\u001b[0m\u001b[1;33m.\u001b[0m\u001b[0mdot\u001b[0m\u001b[1;33m(\u001b[0m\u001b[0ma\u001b[0m\u001b[1;33m,\u001b[0m \u001b[0mb\u001b[0m\u001b[1;33m)\u001b[0m\u001b[1;33m\u001b[0m\u001b[1;33m\u001b[0m\u001b[0m\n\u001b[0m\u001b[0;32m    143\u001b[0m \u001b[1;33m\u001b[0m\u001b[0m\n\u001b[0;32m    144\u001b[0m \u001b[1;33m\u001b[0m\u001b[0m\n",
      "\u001b[1;32m<__array_function__ internals>\u001b[0m in \u001b[0;36mdot\u001b[1;34m(*args, **kwargs)\u001b[0m\n",
      "\u001b[1;31mValueError\u001b[0m: shapes (1,2) and (100,100) not aligned: 2 (dim 1) != 100 (dim 0)"
     ]
    }
   ],
   "source": [
    "import numpy as np\n",
    "from sklearn.linear_model import LinearRegression\n",
    "\n",
    "regr = LinearRegression(fit_intercept = True, normalize = True, copy_X = True, n_jobs = 2).fit([arr1x], [arr1y])\n",
    "regr.predict(np.array([[3,5]]))\n",
    "regr.score(X,y)\n",
    "regr.coef_\n",
    "regr.intercept_"
   ]
  },
  {
   "cell_type": "code",
   "execution_count": null,
   "metadata": {},
   "outputs": [],
   "source": []
  }
 ],
 "metadata": {
  "kernelspec": {
   "display_name": "Python 3",
   "language": "python",
   "name": "python3"
  },
  "language_info": {
   "codemirror_mode": {
    "name": "ipython",
    "version": 3
   },
   "file_extension": ".py",
   "mimetype": "text/x-python",
   "name": "python",
   "nbconvert_exporter": "python",
   "pygments_lexer": "ipython3",
   "version": "3.7.4"
  }
 },
 "nbformat": 4,
 "nbformat_minor": 2
}
